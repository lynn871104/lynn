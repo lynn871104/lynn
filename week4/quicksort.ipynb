{
 "cells": [
  {
   "cell_type": "markdown",
   "metadata": {},
   "source": [
    "# 演算法第一次作業:Quick sort  \n",
    "## 想法:  \n",
    "創三個list  \n",
    "放 大於基準點、等於基準點、小於基準點  \n",
    "使用append加入  \n",
    "用for迴圈包住  \n",
    "**要記得幫迴圈設停止條件!!!**"
   ]
  },
  {
   "cell_type": "code",
   "execution_count": 20,
   "metadata": {},
   "outputs": [],
   "source": [
    "array = [5,7,3,-3,4,6]\n",
    "\n",
    "def quick_sort(array):\n",
    "    small = []\n",
    "    center = []\n",
    "    big = []\n",
    "    # 創建三個list\n",
    "    if len(array) > 1: #原本沒設停止條件\n",
    "        mark = array[0] #抓第一個當基準\n",
    "        for a in array:\n",
    "            if a < mark:\n",
    "                small.append(a) \n",
    "            elif a == mark:\n",
    "                center.append(a)\n",
    "            elif a > mark:\n",
    "                big.append(a)\n",
    "        return sort(small)+sort(center)+sort(big) #排好再合併起來 \n",
    "    else: \n",
    "        return array #最後返回array"
   ]
  },
  {
   "cell_type": "code",
   "execution_count": 21,
   "metadata": {},
   "outputs": [
    {
     "data": {
      "text/plain": [
       "[-3, 3, 4, 5, 6, 7]"
      ]
     },
     "execution_count": 21,
     "metadata": {},
     "output_type": "execute_result"
    }
   ],
   "source": [
    "quick_sort(array)"
   ]
  },
  {
   "cell_type": "markdown",
   "metadata": {},
   "source": [
    "## 參考網路解答  "
   ]
  },
  {
   "cell_type": "code",
   "execution_count": 37,
   "metadata": {},
   "outputs": [],
   "source": [
    "#10/15第一次思考但還是不太懂\n",
    "#arr = [4,2,-7,3,2]\n",
    "# class Quicksort:\n",
    "#     def __init__(self,array, start, end):\n",
    "#        self.ar = array\n",
    "#        self.quick_sort(array,start, end)\n",
    "#        print (array)\n",
    "#    def quick_sort(self, array, start, end):\n",
    "#        if start < end:\n",
    "#            mark = quick_sort(array,start,end)\n",
    "#            self.quick_sort(array,start,mark-1)\n",
    "#            self.quick_sort(array,mark+1,end)\n",
    "            \n",
    "#    def partition(self,array,start,end):\n",
    "#        x = array[end]\n",
    "#        i = start-1\n",
    "#        for a in range(start,end+1,1):\n",
    "#            print (array)\n",
    "#            if array[a] <= x:\n",
    "#                i = i+1\n",
    "#                if i < a:\n",
    "#                    z = array[i]\n",
    "#                    array[i] = array[a] #自己能想到這裡的交換\n",
    "#                    array[j] = z\n",
    "#        return i"
   ]
  },
  {
   "cell_type": "code",
   "execution_count": null,
   "metadata": {},
   "outputs": [],
   "source": []
  }
 ],
 "metadata": {
  "kernelspec": {
   "display_name": "Python 3",
   "language": "python",
   "name": "python3"
  },
  "language_info": {
   "codemirror_mode": {
    "name": "ipython",
    "version": 3
   },
   "file_extension": ".py",
   "mimetype": "text/x-python",
   "name": "python",
   "nbconvert_exporter": "python",
   "pygments_lexer": "ipython3",
   "version": "3.7.1"
  }
 },
 "nbformat": 4,
 "nbformat_minor": 2
}
