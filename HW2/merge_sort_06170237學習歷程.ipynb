{
 "cells": [
  {
   "cell_type": "markdown",
   "metadata": {},
   "source": [
    "# Merge sort之流程圖、學習歷程、文字說明  \n",
    "merge sort在排序時需要使用額外空間，先將陣列分割，直到只有一個元素在陣列。  \n",
    "開始兩兩合併，合併後同時進行排序，一直重複到合併完成。"
   ]
  },
  {
   "cell_type": "code",
   "execution_count": 69,
   "metadata": {},
   "outputs": [],
   "source": [
    "array = [8,4,5,7,3,0,6,2,3]"
   ]
  },
  {
   "cell_type": "code",
   "execution_count": 20,
   "metadata": {},
   "outputs": [],
   "source": [
    "N = int(len(array))\n",
    "A1 = array[0:int(N/2)]\n",
    "A2 = array[int(N/2):]"
   ]
  },
  {
   "cell_type": "code",
   "execution_count": 67,
   "metadata": {},
   "outputs": [],
   "source": [
    "newA1 = sorted(A1)\n",
    "newA2 = sorted(A2)#天真的以為用sort\n",
    "ans = []\n",
    "a=1"
   ]
  },
  {
   "cell_type": "code",
   "execution_count": 68,
   "metadata": {},
   "outputs": [],
   "source": [
    "while newA1 == 0:\n",
    "    if newA1[0] > newA2[0]:\n",
    "        ans.append(newA2[0])\n",
    "        newA2.pop()\n",
    "    elif newA1[0] == newA2[0]:\n",
    "        ans.append(newA2[0])\n",
    "        newA2.pop()\n",
    "    else:\n",
    "        ans.append(newA1[0])\n",
    "        newA1.pop()"
   ]
  },
  {
   "cell_type": "markdown",
   "metadata": {},
   "source": [
    "這是原本的想法也還沒想完  \n",
    "### 沒想到被同學說我的定義錯了!要全部切開裝回去才叫merge sort QAQ"
   ]
  },
  {
   "cell_type": "markdown",
   "metadata": {},
   "source": [
    "後來的merge sort  \n",
    "最重要的兩件事:切割、合併->先試著做"
   ]
  },
  {
   "cell_type": "code",
   "execution_count": 99,
   "metadata": {},
   "outputs": [
    {
     "name": "stdout",
     "output_type": "stream",
     "text": [
      "[8, 4, 5, 7]\n",
      "[3, 0, 6, 2, 3]\n"
     ]
    }
   ],
   "source": [
    "#分割的程式碼\n",
    "array = [8,4,5,7,3,0,6,2,3]\n",
    "N = int(len(array))\n",
    "if 1 >= len(array):\n",
    "    print (array)\n",
    "else:\n",
    "    A1 = array[0:int(N/2)]\n",
    "    A2 = array[int(N/2):]\n",
    "#切割成兩份，之後合併了再重複呼叫就好\n",
    "print(A1)\n",
    "print(A2)"
   ]
  },
  {
   "cell_type": "code",
   "execution_count": 102,
   "metadata": {},
   "outputs": [
    {
     "name": "stdout",
     "output_type": "stream",
     "text": [
      "3\n"
     ]
    }
   ],
   "source": [
    "#合併的程式碼\n",
    "if A1[0] < A2[0]:\n",
    "    print(A1[0])\n",
    "else:\n",
    "    print(A2[0])\n",
    "#之後一樣要重複呼叫"
   ]
  },
  {
   "cell_type": "markdown",
   "metadata": {},
   "source": [
    "試著合併看看"
   ]
  },
  {
   "cell_type": "code",
   "execution_count": 109,
   "metadata": {},
   "outputs": [
    {
     "ename": "RecursionError",
     "evalue": "maximum recursion depth exceeded while calling a Python object",
     "output_type": "error",
     "traceback": [
      "\u001b[1;31m---------------------------------------------------------------------------\u001b[0m",
      "\u001b[1;31mRecursionError\u001b[0m                            Traceback (most recent call last)",
      "\u001b[1;32m<ipython-input-109-85a5046002c7>\u001b[0m in \u001b[0;36m<module>\u001b[1;34m\u001b[0m\n\u001b[0;32m     15\u001b[0m         \u001b[1;32mreturn\u001b[0m \u001b[0msort\u001b[0m\u001b[1;33m(\u001b[0m\u001b[0mA1\u001b[0m\u001b[1;33m,\u001b[0m\u001b[0mA2\u001b[0m\u001b[1;33m[\u001b[0m\u001b[1;36m1\u001b[0m\u001b[1;33m:\u001b[0m\u001b[1;33m]\u001b[0m\u001b[1;33m)\u001b[0m\u001b[1;33m\u001b[0m\u001b[1;33m\u001b[0m\u001b[0m\n\u001b[0;32m     16\u001b[0m \u001b[1;33m\u001b[0m\u001b[0m\n\u001b[1;32m---> 17\u001b[1;33m \u001b[0mprint\u001b[0m\u001b[1;33m(\u001b[0m\u001b[0mmerge_sort\u001b[0m\u001b[1;33m(\u001b[0m\u001b[0marray\u001b[0m\u001b[1;33m)\u001b[0m\u001b[1;33m)\u001b[0m\u001b[1;33m\u001b[0m\u001b[1;33m\u001b[0m\u001b[0m\n\u001b[0m",
      "\u001b[1;32m<ipython-input-109-85a5046002c7>\u001b[0m in \u001b[0;36mmerge_sort\u001b[1;34m(array)\u001b[0m\n\u001b[0;32m      4\u001b[0m     \u001b[0mA1\u001b[0m \u001b[1;33m=\u001b[0m \u001b[0marray\u001b[0m\u001b[1;33m[\u001b[0m\u001b[1;36m0\u001b[0m\u001b[1;33m:\u001b[0m\u001b[0mint\u001b[0m\u001b[1;33m(\u001b[0m\u001b[0mN\u001b[0m\u001b[1;33m/\u001b[0m\u001b[1;36m2\u001b[0m\u001b[1;33m)\u001b[0m\u001b[1;33m]\u001b[0m\u001b[1;33m\u001b[0m\u001b[1;33m\u001b[0m\u001b[0m\n\u001b[0;32m      5\u001b[0m     \u001b[0mA2\u001b[0m \u001b[1;33m=\u001b[0m \u001b[0marray\u001b[0m\u001b[1;33m[\u001b[0m\u001b[0mint\u001b[0m\u001b[1;33m(\u001b[0m\u001b[0mN\u001b[0m\u001b[1;33m/\u001b[0m\u001b[1;36m2\u001b[0m\u001b[1;33m)\u001b[0m\u001b[1;33m:\u001b[0m\u001b[1;33m]\u001b[0m\u001b[1;33m\u001b[0m\u001b[1;33m\u001b[0m\u001b[0m\n\u001b[1;32m----> 6\u001b[1;33m     \u001b[0mnewA1\u001b[0m \u001b[1;33m=\u001b[0m \u001b[0mmerge_sort\u001b[0m\u001b[1;33m(\u001b[0m\u001b[0mA1\u001b[0m\u001b[1;33m)\u001b[0m\u001b[1;33m\u001b[0m\u001b[1;33m\u001b[0m\u001b[0m\n\u001b[0m\u001b[0;32m      7\u001b[0m     \u001b[0mnewA2\u001b[0m \u001b[1;33m=\u001b[0m \u001b[0mmerge_sort\u001b[0m\u001b[1;33m(\u001b[0m\u001b[0mA2\u001b[0m\u001b[1;33m)\u001b[0m\u001b[1;33m\u001b[0m\u001b[1;33m\u001b[0m\u001b[0m\n\u001b[0;32m      8\u001b[0m     \u001b[1;32mreturn\u001b[0m \u001b[0msort\u001b[0m\u001b[1;33m(\u001b[0m\u001b[0mnewA1\u001b[0m\u001b[1;33m,\u001b[0m\u001b[0mnewA2\u001b[0m\u001b[1;33m)\u001b[0m\u001b[1;33m\u001b[0m\u001b[1;33m\u001b[0m\u001b[0m\n",
      "... last 1 frames repeated, from the frame below ...\n",
      "\u001b[1;32m<ipython-input-109-85a5046002c7>\u001b[0m in \u001b[0;36mmerge_sort\u001b[1;34m(array)\u001b[0m\n\u001b[0;32m      4\u001b[0m     \u001b[0mA1\u001b[0m \u001b[1;33m=\u001b[0m \u001b[0marray\u001b[0m\u001b[1;33m[\u001b[0m\u001b[1;36m0\u001b[0m\u001b[1;33m:\u001b[0m\u001b[0mint\u001b[0m\u001b[1;33m(\u001b[0m\u001b[0mN\u001b[0m\u001b[1;33m/\u001b[0m\u001b[1;36m2\u001b[0m\u001b[1;33m)\u001b[0m\u001b[1;33m]\u001b[0m\u001b[1;33m\u001b[0m\u001b[1;33m\u001b[0m\u001b[0m\n\u001b[0;32m      5\u001b[0m     \u001b[0mA2\u001b[0m \u001b[1;33m=\u001b[0m \u001b[0marray\u001b[0m\u001b[1;33m[\u001b[0m\u001b[0mint\u001b[0m\u001b[1;33m(\u001b[0m\u001b[0mN\u001b[0m\u001b[1;33m/\u001b[0m\u001b[1;36m2\u001b[0m\u001b[1;33m)\u001b[0m\u001b[1;33m:\u001b[0m\u001b[1;33m]\u001b[0m\u001b[1;33m\u001b[0m\u001b[1;33m\u001b[0m\u001b[0m\n\u001b[1;32m----> 6\u001b[1;33m     \u001b[0mnewA1\u001b[0m \u001b[1;33m=\u001b[0m \u001b[0mmerge_sort\u001b[0m\u001b[1;33m(\u001b[0m\u001b[0mA1\u001b[0m\u001b[1;33m)\u001b[0m\u001b[1;33m\u001b[0m\u001b[1;33m\u001b[0m\u001b[0m\n\u001b[0m\u001b[0;32m      7\u001b[0m     \u001b[0mnewA2\u001b[0m \u001b[1;33m=\u001b[0m \u001b[0mmerge_sort\u001b[0m\u001b[1;33m(\u001b[0m\u001b[0mA2\u001b[0m\u001b[1;33m)\u001b[0m\u001b[1;33m\u001b[0m\u001b[1;33m\u001b[0m\u001b[0m\n\u001b[0;32m      8\u001b[0m     \u001b[1;32mreturn\u001b[0m \u001b[0msort\u001b[0m\u001b[1;33m(\u001b[0m\u001b[0mnewA1\u001b[0m\u001b[1;33m,\u001b[0m\u001b[0mnewA2\u001b[0m\u001b[1;33m)\u001b[0m\u001b[1;33m\u001b[0m\u001b[1;33m\u001b[0m\u001b[0m\n",
      "\u001b[1;31mRecursionError\u001b[0m: maximum recursion depth exceeded while calling a Python object"
     ]
    }
   ],
   "source": [
    "array = [8,4,5,7,3,0,6,2,3]\n",
    "def merge_sort(array):\n",
    "    N = int(len(array))\n",
    "    A1 = array[0:int(N/2)]\n",
    "    A2 = array[int(N/2):]\n",
    "    newA1 = merge_sort(A1)\n",
    "    newA2 = merge_sort(A2)\n",
    "    return sort(newA1,newA2)\n",
    "def sort(A1,A2):\n",
    "    if A1[0] < A2[0]:\n",
    "        return [A1[0]]\n",
    "        return sort(A1[1:],A2)\n",
    "    else:\n",
    "        return [A2[0]]\n",
    "        return sort(A1,A2[1:])\n",
    "\n",
    "print(merge_sort(array))"
   ]
  },
  {
   "cell_type": "markdown",
   "metadata": {},
   "source": [
    "好像忘記設停止條件了?"
   ]
  },
  {
   "cell_type": "code",
   "execution_count": 159,
   "metadata": {},
   "outputs": [
    {
     "name": "stdout",
     "output_type": "stream",
     "text": [
      "[0, 1, 2, 3, 3, 4, 5, 7, 8]\n"
     ]
    }
   ],
   "source": [
    "array = [8,4,5,7,3,0,1,2,3]\n",
    "class solution():\n",
    "    def merge_sort(array):\n",
    "        if len(array) < 1:\n",
    "            return array #跟別人討論發現要這個條件才不會沒完沒了\n",
    "        else:\n",
    "            N = int(len(array))\n",
    "            A1 = array[0:int(N/2)]\n",
    "            A2 = array[int(N/2):]\n",
    "            newA1 = merge_sort(A1)\n",
    "            newA2 = merge_sort(A2)\n",
    "        return sort(newA1,newA2)\n",
    "    def sort(A1,A2):\n",
    "        if A1[0] < A2[0]:\n",
    "            return [A1[0]]\n",
    "            return sort(A1[1:],A2)\n",
    "        else:\n",
    "            return [A2[0]]\n",
    "            return sort(A1,A2[1:])\n",
    "    print(merge_sort(array))"
   ]
  },
  {
   "cell_type": "markdown",
   "metadata": {},
   "source": [
    "理解mergesort的定義就開始著手寫程式，上網查的也都是python本身的語法  \n",
    "第一次就這樣憑空生出程式碼，好可怕QQ"
   ]
  },
  {
   "cell_type": "markdown",
   "metadata": {},
   "source": [
    "資料參考:  \n",
    "https://emn178.pixnet.net/blog/post/87965707  \n",
    "https://medium.com/appworks-school/%E5%88%9D%E5%AD%B8%E8%80%85%E5%AD%B8%E6%BC%94%E7%AE%97%E6%B3%95-%E6%8E%92%E5%BA%8F%E6%B3%95%E9%80%B2%E9%9A%8E-%E5%90%88%E4%BD%B5%E6%8E%92%E5%BA%8F%E6%B3%95-6252651c6f7e"
   ]
  }
 ],
 "metadata": {
  "kernelspec": {
   "display_name": "Python 3",
   "language": "python",
   "name": "python3"
  },
  "language_info": {
   "codemirror_mode": {
    "name": "ipython",
    "version": 3
   },
   "file_extension": ".py",
   "mimetype": "text/x-python",
   "name": "python",
   "nbconvert_exporter": "python",
   "pygments_lexer": "ipython3",
   "version": "3.7.1"
  }
 },
 "nbformat": 4,
 "nbformat_minor": 2
}
